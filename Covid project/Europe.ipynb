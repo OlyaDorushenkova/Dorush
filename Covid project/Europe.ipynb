{
 "cells": [
  {
   "cell_type": "code",
   "execution_count": 1,
   "id": "d6f2344f-7842-4669-97bd-a0c73646494f",
   "metadata": {},
   "outputs": [],
   "source": [
    "import numpy as np\n",
    "import pandas as pd\n",
    "df = pd.read_csv('owid-covid-data.csv')\n",
    "import matplotlib.pyplot as plt\n",
    "%matplotlib inline\n",
    "df = df.loc[df['continent'] == \"Europe\"]\n",
    "df['new_cases'] = df['new_cases'].fillna(0)"
   ]
  },
  {
   "cell_type": "code",
   "execution_count": 2,
   "id": "ff0bb3c3-bf89-4334-973d-d51dc7e06544",
   "metadata": {},
   "outputs": [
    {
     "data": {
      "text/plain": [
       "iso_code                                       0\n",
       "continent                                      0\n",
       "location                                       0\n",
       "date                                           0\n",
       "total_cases                                 1156\n",
       "                                           ...  \n",
       "human_development_index                     7194\n",
       "excess_mortality_cumulative_absolute       40594\n",
       "excess_mortality_cumulative                40594\n",
       "excess_mortality                           40594\n",
       "excess_mortality_cumulative_per_million    40594\n",
       "Length: 67, dtype: int64"
      ]
     },
     "execution_count": 2,
     "metadata": {},
     "output_type": "execute_result"
    }
   ],
   "source": [
    "df.isnull().sum()"
   ]
  },
  {
   "cell_type": "code",
   "execution_count": 3,
   "id": "d97091c9-61b0-41b0-8c0a-d4a23d8fdae1",
   "metadata": {},
   "outputs": [
    {
     "data": {
      "text/plain": [
       "51"
      ]
     },
     "execution_count": 3,
     "metadata": {},
     "output_type": "execute_result"
    }
   ],
   "source": [
    "len(df['location'].unique())"
   ]
  },
  {
   "cell_type": "code",
   "execution_count": 4,
   "id": "4ff51315-5fa7-4cd0-9141-6c72de01bc7e",
   "metadata": {},
   "outputs": [
    {
     "data": {
      "text/plain": [
       "39"
      ]
     },
     "execution_count": 4,
     "metadata": {},
     "output_type": "execute_result"
    }
   ],
   "source": [
    "len(df['male_smokers'].unique())"
   ]
  },
  {
   "cell_type": "code",
   "execution_count": 5,
   "id": "7349f3d4-0801-4689-a709-0609c4499db9",
   "metadata": {},
   "outputs": [
    {
     "data": {
      "text/plain": [
       "38"
      ]
     },
     "execution_count": 5,
     "metadata": {},
     "output_type": "execute_result"
    }
   ],
   "source": [
    "df['male_smokers'] = df['male_smokers'].fillna(0)\n",
    "df = df.loc[df['male_smokers'] != 0]\n",
    "len(df['male_smokers'].unique())"
   ]
  },
  {
   "cell_type": "code",
   "execution_count": 6,
   "id": "282db7c6-d9af-4084-a6db-b2a7c362d30f",
   "metadata": {},
   "outputs": [
    {
     "data": {
      "text/plain": [
       "40"
      ]
     },
     "execution_count": 6,
     "metadata": {},
     "output_type": "execute_result"
    }
   ],
   "source": [
    "countries = df['location'].unique()\n",
    "len(countries)"
   ]
  },
  {
   "cell_type": "code",
   "execution_count": 7,
   "id": "76b2315e-3076-4296-b15a-bdd308de5ddb",
   "metadata": {},
   "outputs": [],
   "source": [
    "data_ms = df.groupby(['location']).mean()['male_smokers']\n",
    "data_index = df.groupby(['location']).mean()['human_development_index']\n",
    "data_poverty = df.groupby(['location']).mean()['extreme_poverty']\n",
    "data_65 = df.groupby(['location']).mean()['aged_65_older']\n",
    "data_70 = df.groupby(['location']).mean()['aged_70_older'] \n",
    "data_diabet = df.groupby(['location']).mean()['diabetes_prevalence'] \n",
    "data_hand = df.groupby(['location']).mean()['handwashing_facilities']\n",
    "data_hospital = df.groupby(['location']).mean()['hospital_beds_per_thousand']\n",
    "data_life= df.groupby(['location']).mean()['life_expectancy']\n",
    "data_gdp = df.groupby(['location']).mean()['gdp_per_capita']"
   ]
  },
  {
   "cell_type": "code",
   "execution_count": 8,
   "id": "469afc89-bd23-4188-b09d-f056cdc47d9f",
   "metadata": {},
   "outputs": [],
   "source": [
    "data_ms.columns =['location', 'male_smokers'] "
   ]
  },
  {
   "cell_type": "code",
   "execution_count": 9,
   "id": "8d93274c-113d-4216-8e06-a7cd7b228aa0",
   "metadata": {},
   "outputs": [
    {
     "data": {
      "text/plain": [
       "location\n",
       "Albania                   51.2\n",
       "Andorra                   37.8\n",
       "Austria                   30.9\n",
       "Belarus                   46.1\n",
       "Belgium                   31.4\n",
       "Bosnia and Herzegovina    47.7\n",
       "Bulgaria                  44.4\n",
       "Croatia                   39.9\n",
       "Cyprus                    52.7\n",
       "Czechia                   38.3\n",
       "Denmark                   18.8\n",
       "Estonia                   39.3\n",
       "Finland                   22.6\n",
       "France                    35.6\n",
       "Germany                   33.1\n",
       "Greece                    52.0\n",
       "Hungary                   34.8\n",
       "Iceland                   15.2\n",
       "Ireland                   25.7\n",
       "Italy                     27.8\n",
       "Latvia                    51.0\n",
       "Lithuania                 38.0\n",
       "Luxembourg                26.0\n",
       "Malta                     30.2\n",
       "Moldova                   44.6\n",
       "Montenegro                47.9\n",
       "Netherlands               27.3\n",
       "Norway                    20.7\n",
       "Poland                    33.1\n",
       "Portugal                  30.0\n",
       "Romania                   37.1\n",
       "Russia                    58.3\n",
       "Serbia                    40.2\n",
       "Slovakia                  37.7\n",
       "Slovenia                  25.0\n",
       "Spain                     31.4\n",
       "Sweden                    18.9\n",
       "Switzerland               28.9\n",
       "Ukraine                   47.4\n",
       "United Kingdom            24.7\n",
       "Name: male_smokers, dtype: float64"
      ]
     },
     "execution_count": 9,
     "metadata": {},
     "output_type": "execute_result"
    }
   ],
   "source": [
    "data_ms"
   ]
  },
  {
   "cell_type": "code",
   "execution_count": 10,
   "id": "055e29a2-b17a-498a-ac18-56e8ffe1a3ef",
   "metadata": {},
   "outputs": [],
   "source": [
    "sort_data_ms = data_ms.sort_values()"
   ]
  },
  {
   "cell_type": "code",
   "execution_count": 11,
   "id": "e3ea8ba1-82b5-43f7-800d-92becee5c057",
   "metadata": {},
   "outputs": [
    {
     "data": {
      "image/png": "[encoded data removed]",
      "text/plain": [
       "<Figure size 432x288 with 1 Axes>"
      ]
     },
     "metadata": {
      "needs_background": "light"
     },
     "output_type": "display_data"
    }
   ],
   "source": [
    "sort_data_ms.plot.bar(x='location', y='male_smokers')\n",
    "plt.show()"
   ]
  },
  {
   "cell_type": "code",
   "execution_count": 12,
   "id": "e117ed7b-c62d-482e-8d08-cb39d29793f1",
   "metadata": {},
   "outputs": [],
   "source": [
    "data_fms = df.groupby(['location']).mean()['female_smokers']\n",
    "data_fms.columns =['location', 'female_smokers']\n",
    "sort_data_fms = data_fms.sort_values()"
   ]
  },
  {
   "cell_type": "code",
   "execution_count": 13,
   "id": "fe74c1aa-9b48-487f-9709-6a01a59f8fe2",
   "metadata": {},
   "outputs": [
    {
     "data": {
      "image/png": "[encoded data removed]",
      "text/plain": [
       "<Figure size 432x288 with 1 Axes>"
      ]
     },
     "metadata": {
      "needs_background": "light"
     },
     "output_type": "display_data"
    }
   ],
   "source": [
    "sort_data_fms.plot.bar(x='location', y='female_smokers',color = 'pink')\n",
    "plt.show()"
   ]
  },
  {
   "cell_type": "code",
   "execution_count": 14,
   "id": "2d175c86-b5e7-4c11-835a-be9e3d64c77b",
   "metadata": {},
   "outputs": [
    {
     "name": "stderr",
     "output_type": "stream",
     "text": [
      "/tmp/ipykernel_42737/1272230856.py:2: FutureWarning: Dropping invalid columns in DataFrameGroupBy.max is deprecated. In a future version, a TypeError will be raised. Before calling .max, select only columns which should be valid for the function.\n",
      "  data_death = df.groupby(['location']).max()['new']\n"
     ]
    },
    {
     "data": {
      "image/png": "[encoded data removed]",
      "text/plain": [
       "<Figure size 432x288 with 1 Axes>"
      ]
     },
     "metadata": {
      "needs_background": "light"
     },
     "output_type": "display_data"
    }
   ],
   "source": [
    "df['new'] = df['total_deaths']/df['population']\n",
    "data_death = df.groupby(['location']).max()['new']\n",
    "data_death.columns =['location', 'total_deaths']\n",
    "sort_data_death = data_death.sort_values()\n",
    "sort_data_death.plot.bar(x='location', y='total_deaths',color = 'black')\n",
    "plt.show()"
   ]
  },
  {
   "cell_type": "code",
   "execution_count": 15,
   "id": "a7a0a9c7-24ab-4bec-89f8-66e500be25d5",
   "metadata": {},
   "outputs": [
    {
     "data": {
      "text/plain": [
       "''"
      ]
     },
     "execution_count": 15,
     "metadata": {},
     "output_type": "execute_result"
    }
   ],
   "source": [
    "data = pd.DataFrame({'female_smokers': data_fms, 'male_smokers': data_ms,'total_deaths' : data_death, \n",
    "        'human_development_index' : data_index, 'extreme_poverty' : data_poverty,'diabetes_prevalence': data_diabet, 'aged_65_older' : data_65\n",
    "                    ,'aged_70_older' : data_70, 'hospital_beds_per_thousand' : data_hospital, 'handwashing_facilities': data_hand\n",
    "                    ,'life_expectancy' : data_life, 'gdp_per_capita' : data_gdp}).reset_index()\n",
    ","
   ]
  },
  {
   "cell_type": "code",
   "execution_count": 16,
   "id": "140bb74d-2ad0-48b2-9342-72cbc4e998b5",
   "metadata": {},
   "outputs": [
    {
     "data": {
      "text/plain": [
       "location                       0\n",
       "female_smokers                 0\n",
       "male_smokers                   0\n",
       "total_deaths                   0\n",
       "human_development_index        0\n",
       "extreme_poverty               12\n",
       "diabetes_prevalence            0\n",
       "aged_65_older                  1\n",
       "aged_70_older                  2\n",
       "hospital_beds_per_thousand     1\n",
       "handwashing_facilities        37\n",
       "life_expectancy                0\n",
       "gdp_per_capita                 1\n",
       "dtype: int64"
      ]
     },
     "execution_count": 16,
     "metadata": {},
     "output_type": "execute_result"
    }
   ],
   "source": [
    "data.isnull().sum()"
   ]
  },
  {
   "cell_type": "code",
   "execution_count": 17,
   "id": "df464c7b-c954-45b1-8042-0827d34eb81d",
   "metadata": {},
   "outputs": [
    {
     "data": {
      "text/plain": [
       "location                       0\n",
       "female_smokers                 0\n",
       "male_smokers                   0\n",
       "total_deaths                   0\n",
       "human_development_index        0\n",
       "extreme_poverty                0\n",
       "diabetes_prevalence            0\n",
       "aged_65_older                  0\n",
       "aged_70_older                  0\n",
       "hospital_beds_per_thousand     0\n",
       "handwashing_facilities        26\n",
       "life_expectancy                0\n",
       "gdp_per_capita                 0\n",
       "dtype: int64"
      ]
     },
     "execution_count": 17,
     "metadata": {},
     "output_type": "execute_result"
    }
   ],
   "source": [
    "data.dropna(subset=['extreme_poverty'], inplace=True)\n",
    "data.isnull().sum()"
   ]
  },
  {
   "cell_type": "code",
   "execution_count": 18,
   "id": "5c723e90-9203-4368-8400-6e6645e66be1",
   "metadata": {},
   "outputs": [
    {
     "name": "stdout",
     "output_type": "stream",
     "text": [
      "coefficient of determination for men: 0.30434152284985727\n"
     ]
    },
    {
     "data": {
      "text/plain": [
       "[<matplotlib.lines.Line2D at 0x7f2f83d992b0>]"
      ]
     },
     "execution_count": 18,
     "metadata": {},
     "output_type": "execute_result"
    },
    {
     "data": {
      "image/png": "[encoded data removed]",
      "text/plain": [
       "<Figure size 432x288 with 1 Axes>"
      ]
     },
     "metadata": {
      "needs_background": "light"
     },
     "output_type": "display_data"
    }
   ],
   "source": [
    "from sklearn.linear_model import LinearRegression\n",
    "x = data['male_smokers'].values.reshape((-1,1))\n",
    "y = data['total_deaths'].values\n",
    "model = LinearRegression()\n",
    "model.fit(x, y)\n",
    "r_sq = model.score(x, y)\n",
    "print('coefficient of determination for men:', r_sq)\n",
    "plt.scatter(x, y)\n",
    "plt.plot(x, model.predict(x), color='black')"
   ]
  },
  {
   "cell_type": "code",
   "execution_count": 19,
   "id": "8cc16901-9a93-43dd-9b95-c6d81d5b44aa",
   "metadata": {},
   "outputs": [
    {
     "name": "stdout",
     "output_type": "stream",
     "text": [
      "coefficient of determination for women: 0.2540893166550743\n"
     ]
    },
    {
     "data": {
      "text/plain": [
       "[<matplotlib.lines.Line2D at 0x7f2f83d7ef10>]"
      ]
     },
     "execution_count": 19,
     "metadata": {},
     "output_type": "execute_result"
    },
    {
     "data": {
      "image/png": "[encoded data removed]",
      "text/plain": [
       "<Figure size 432x288 with 1 Axes>"
      ]
     },
     "metadata": {
      "needs_background": "light"
     },
     "output_type": "display_data"
    }
   ],
   "source": [
    "x1 = data['female_smokers'].values.reshape((-1,1))\n",
    "y1 = data['total_deaths'].values\n",
    "model = LinearRegression()\n",
    "model.fit(x1, y1)\n",
    "r_sq = model.score(x1, y1)\n",
    "print('coefficient of determination for women:', r_sq)\n",
    "plt.scatter(x1, y1,color = 'pink')\n",
    "plt.plot(x1, model.predict(x1), color='black')"
   ]
  },
  {
   "cell_type": "code",
   "execution_count": 20,
   "id": "567e6daa-9c53-4238-97ce-b2c73128a919",
   "metadata": {},
   "outputs": [
    {
     "name": "stdout",
     "output_type": "stream",
     "text": [
      "coefficient of determination: 0.4438994904405209\n"
     ]
    },
    {
     "data": {
      "text/plain": [
       "[<matplotlib.lines.Line2D at 0x7f2f83cf6520>]"
      ]
     },
     "execution_count": 20,
     "metadata": {},
     "output_type": "execute_result"
    },
    {
     "data": {
      "image/png": "[encoded data removed]",
      "text/plain": [
       "<Figure size 432x288 with 1 Axes>"
      ]
     },
     "metadata": {
      "needs_background": "light"
     },
     "output_type": "display_data"
    }
   ],
   "source": [
    "data['smokers'] = (data['female_smokers'] + data['male_smokers'])/2\n",
    "x2 = data['smokers'].values.reshape((-1,1))\n",
    "y2 = data['total_deaths'].values\n",
    "model = LinearRegression()\n",
    "model.fit(x2, y2)\n",
    "r_sq = model.score(x2, y2)\n",
    "print('coefficient of determination:', r_sq)\n",
    "plt.scatter(x2, y2,color = 'purple')\n",
    "plt.plot(x2, model.predict(x2), color='black')"
   ]
  },
  {
   "cell_type": "code",
   "execution_count": 21,
   "id": "1fec1d9a-8454-4fbf-ac5f-153c6d1a1d88",
   "metadata": {},
   "outputs": [
    {
     "name": "stdout",
     "output_type": "stream",
     "text": [
      "coefficient of determination: 0.3904573086728471\n"
     ]
    },
    {
     "data": {
      "text/plain": [
       "[<matplotlib.lines.Line2D at 0x7f2f83c59970>]"
      ]
     },
     "execution_count": 21,
     "metadata": {},
     "output_type": "execute_result"
    },
    {
     "data": {
      "image/png": "[encoded data removed]",
      "text/plain": [
       "<Figure size 432x288 with 1 Axes>"
      ]
     },
     "metadata": {
      "needs_background": "light"
     },
     "output_type": "display_data"
    }
   ],
   "source": [
    "x3 = data['human_development_index'].values.reshape((-1,1))\n",
    "y3 = data['total_deaths'].values\n",
    "model = LinearRegression()\n",
    "model.fit(x3, y3)\n",
    "r_sq = model.score(x3, y3)\n",
    "print('coefficient of determination:', r_sq)\n",
    "plt.scatter(x3, y3,color = 'green')\n",
    "plt.plot(x3, model.predict(x3), color='black')"
   ]
  },
  {
   "cell_type": "code",
   "execution_count": 22,
   "id": "0aa350bb-34d3-4117-be24-2345e984d486",
   "metadata": {},
   "outputs": [
    {
     "data": {
      "text/html": [
       "<div>\n",
       "<style scoped>\n",
       "    .dataframe tbody tr th:only-of-type {\n",
       "        vertical-align: middle;\n",
       "    }\n",
       "\n",
       "    .dataframe tbody tr th {\n",
       "        vertical-align: top;\n",
       "    }\n",
       "\n",
       "    .dataframe thead th {\n",
       "        text-align: right;\n",
       "    }\n",
       "</style>\n",
       "<table border=\"1\" class=\"dataframe\">\n",
       "  <thead>\n",
       "    <tr style=\"text-align: right;\">\n",
       "      <th></th>\n",
       "      <th>location</th>\n",
       "      <th>female_smokers</th>\n",
       "      <th>male_smokers</th>\n",
       "      <th>total_deaths</th>\n",
       "      <th>human_development_index</th>\n",
       "      <th>extreme_poverty</th>\n",
       "      <th>diabetes_prevalence</th>\n",
       "      <th>aged_65_older</th>\n",
       "      <th>aged_70_older</th>\n",
       "      <th>hospital_beds_per_thousand</th>\n",
       "      <th>handwashing_facilities</th>\n",
       "      <th>life_expectancy</th>\n",
       "      <th>gdp_per_capita</th>\n",
       "      <th>smokers</th>\n",
       "    </tr>\n",
       "  </thead>\n",
       "  <tbody>\n",
       "    <tr>\n",
       "      <th>0</th>\n",
       "      <td>Albania</td>\n",
       "      <td>7.1</td>\n",
       "      <td>51.2</td>\n",
       "      <td>0.001244</td>\n",
       "      <td>79.5</td>\n",
       "      <td>1.1</td>\n",
       "      <td>10.08</td>\n",
       "      <td>13.188</td>\n",
       "      <td>8.643</td>\n",
       "      <td>2.890</td>\n",
       "      <td>NaN</td>\n",
       "      <td>78.57</td>\n",
       "      <td>11803.431</td>\n",
       "      <td>29.15</td>\n",
       "    </tr>\n",
       "    <tr>\n",
       "      <th>2</th>\n",
       "      <td>Austria</td>\n",
       "      <td>28.4</td>\n",
       "      <td>30.9</td>\n",
       "      <td>0.002285</td>\n",
       "      <td>92.2</td>\n",
       "      <td>0.7</td>\n",
       "      <td>6.35</td>\n",
       "      <td>19.202</td>\n",
       "      <td>13.748</td>\n",
       "      <td>7.370</td>\n",
       "      <td>NaN</td>\n",
       "      <td>81.54</td>\n",
       "      <td>45436.686</td>\n",
       "      <td>29.65</td>\n",
       "    </tr>\n",
       "    <tr>\n",
       "      <th>4</th>\n",
       "      <td>Belgium</td>\n",
       "      <td>25.1</td>\n",
       "      <td>31.4</td>\n",
       "      <td>0.002779</td>\n",
       "      <td>93.1</td>\n",
       "      <td>0.2</td>\n",
       "      <td>4.29</td>\n",
       "      <td>18.571</td>\n",
       "      <td>12.849</td>\n",
       "      <td>5.640</td>\n",
       "      <td>NaN</td>\n",
       "      <td>81.63</td>\n",
       "      <td>42658.576</td>\n",
       "      <td>28.25</td>\n",
       "    </tr>\n",
       "    <tr>\n",
       "      <th>5</th>\n",
       "      <td>Bosnia and Herzegovina</td>\n",
       "      <td>30.2</td>\n",
       "      <td>47.7</td>\n",
       "      <td>0.004856</td>\n",
       "      <td>78.0</td>\n",
       "      <td>0.2</td>\n",
       "      <td>10.08</td>\n",
       "      <td>16.569</td>\n",
       "      <td>10.711</td>\n",
       "      <td>3.500</td>\n",
       "      <td>97.164</td>\n",
       "      <td>77.40</td>\n",
       "      <td>11713.895</td>\n",
       "      <td>38.95</td>\n",
       "    </tr>\n",
       "    <tr>\n",
       "      <th>6</th>\n",
       "      <td>Bulgaria</td>\n",
       "      <td>30.1</td>\n",
       "      <td>44.4</td>\n",
       "      <td>0.005434</td>\n",
       "      <td>81.6</td>\n",
       "      <td>1.5</td>\n",
       "      <td>5.81</td>\n",
       "      <td>20.801</td>\n",
       "      <td>13.272</td>\n",
       "      <td>7.454</td>\n",
       "      <td>NaN</td>\n",
       "      <td>75.05</td>\n",
       "      <td>18563.307</td>\n",
       "      <td>37.25</td>\n",
       "    </tr>\n",
       "    <tr>\n",
       "      <th>7</th>\n",
       "      <td>Croatia</td>\n",
       "      <td>34.3</td>\n",
       "      <td>39.9</td>\n",
       "      <td>0.004027</td>\n",
       "      <td>85.1</td>\n",
       "      <td>0.7</td>\n",
       "      <td>5.59</td>\n",
       "      <td>19.724</td>\n",
       "      <td>13.053</td>\n",
       "      <td>5.540</td>\n",
       "      <td>NaN</td>\n",
       "      <td>78.49</td>\n",
       "      <td>22669.797</td>\n",
       "      <td>37.10</td>\n",
       "    </tr>\n",
       "    <tr>\n",
       "      <th>10</th>\n",
       "      <td>Denmark</td>\n",
       "      <td>19.3</td>\n",
       "      <td>18.8</td>\n",
       "      <td>0.001142</td>\n",
       "      <td>94.0</td>\n",
       "      <td>0.2</td>\n",
       "      <td>6.41</td>\n",
       "      <td>19.677</td>\n",
       "      <td>12.325</td>\n",
       "      <td>2.500</td>\n",
       "      <td>NaN</td>\n",
       "      <td>80.90</td>\n",
       "      <td>46682.515</td>\n",
       "      <td>19.05</td>\n",
       "    </tr>\n",
       "    <tr>\n",
       "      <th>11</th>\n",
       "      <td>Estonia</td>\n",
       "      <td>24.5</td>\n",
       "      <td>39.3</td>\n",
       "      <td>0.001978</td>\n",
       "      <td>89.2</td>\n",
       "      <td>0.5</td>\n",
       "      <td>4.02</td>\n",
       "      <td>19.452</td>\n",
       "      <td>13.491</td>\n",
       "      <td>4.690</td>\n",
       "      <td>NaN</td>\n",
       "      <td>78.74</td>\n",
       "      <td>29481.252</td>\n",
       "      <td>31.90</td>\n",
       "    </tr>\n",
       "    <tr>\n",
       "      <th>15</th>\n",
       "      <td>Greece</td>\n",
       "      <td>35.3</td>\n",
       "      <td>52.0</td>\n",
       "      <td>0.003004</td>\n",
       "      <td>88.8</td>\n",
       "      <td>1.5</td>\n",
       "      <td>4.55</td>\n",
       "      <td>20.396</td>\n",
       "      <td>14.524</td>\n",
       "      <td>4.210</td>\n",
       "      <td>NaN</td>\n",
       "      <td>82.24</td>\n",
       "      <td>24574.382</td>\n",
       "      <td>43.65</td>\n",
       "    </tr>\n",
       "    <tr>\n",
       "      <th>16</th>\n",
       "      <td>Hungary</td>\n",
       "      <td>26.8</td>\n",
       "      <td>34.8</td>\n",
       "      <td>0.004829</td>\n",
       "      <td>85.4</td>\n",
       "      <td>0.5</td>\n",
       "      <td>7.55</td>\n",
       "      <td>18.577</td>\n",
       "      <td>11.976</td>\n",
       "      <td>7.020</td>\n",
       "      <td>NaN</td>\n",
       "      <td>76.88</td>\n",
       "      <td>26777.561</td>\n",
       "      <td>30.80</td>\n",
       "    </tr>\n",
       "    <tr>\n",
       "      <th>17</th>\n",
       "      <td>Iceland</td>\n",
       "      <td>14.3</td>\n",
       "      <td>15.2</td>\n",
       "      <td>0.000483</td>\n",
       "      <td>94.9</td>\n",
       "      <td>0.2</td>\n",
       "      <td>5.31</td>\n",
       "      <td>14.431</td>\n",
       "      <td>9.207</td>\n",
       "      <td>2.910</td>\n",
       "      <td>NaN</td>\n",
       "      <td>82.99</td>\n",
       "      <td>46482.958</td>\n",
       "      <td>14.75</td>\n",
       "    </tr>\n",
       "    <tr>\n",
       "      <th>18</th>\n",
       "      <td>Ireland</td>\n",
       "      <td>23.0</td>\n",
       "      <td>25.7</td>\n",
       "      <td>0.001544</td>\n",
       "      <td>95.5</td>\n",
       "      <td>0.2</td>\n",
       "      <td>3.28</td>\n",
       "      <td>13.928</td>\n",
       "      <td>8.678</td>\n",
       "      <td>2.960</td>\n",
       "      <td>NaN</td>\n",
       "      <td>82.30</td>\n",
       "      <td>67335.293</td>\n",
       "      <td>24.35</td>\n",
       "    </tr>\n",
       "    <tr>\n",
       "      <th>19</th>\n",
       "      <td>Italy</td>\n",
       "      <td>19.8</td>\n",
       "      <td>27.8</td>\n",
       "      <td>0.002913</td>\n",
       "      <td>89.2</td>\n",
       "      <td>2.0</td>\n",
       "      <td>4.78</td>\n",
       "      <td>23.021</td>\n",
       "      <td>16.240</td>\n",
       "      <td>3.180</td>\n",
       "      <td>NaN</td>\n",
       "      <td>83.51</td>\n",
       "      <td>35220.084</td>\n",
       "      <td>23.80</td>\n",
       "    </tr>\n",
       "    <tr>\n",
       "      <th>20</th>\n",
       "      <td>Latvia</td>\n",
       "      <td>25.6</td>\n",
       "      <td>51.0</td>\n",
       "      <td>0.003148</td>\n",
       "      <td>86.6</td>\n",
       "      <td>0.7</td>\n",
       "      <td>4.91</td>\n",
       "      <td>19.754</td>\n",
       "      <td>14.136</td>\n",
       "      <td>5.570</td>\n",
       "      <td>NaN</td>\n",
       "      <td>75.29</td>\n",
       "      <td>25063.846</td>\n",
       "      <td>38.30</td>\n",
       "    </tr>\n",
       "    <tr>\n",
       "      <th>21</th>\n",
       "      <td>Lithuania</td>\n",
       "      <td>21.3</td>\n",
       "      <td>38.0</td>\n",
       "      <td>0.003305</td>\n",
       "      <td>88.2</td>\n",
       "      <td>0.7</td>\n",
       "      <td>3.67</td>\n",
       "      <td>19.002</td>\n",
       "      <td>13.778</td>\n",
       "      <td>6.560</td>\n",
       "      <td>NaN</td>\n",
       "      <td>75.93</td>\n",
       "      <td>29524.265</td>\n",
       "      <td>29.65</td>\n",
       "    </tr>\n",
       "    <tr>\n",
       "      <th>22</th>\n",
       "      <td>Luxembourg</td>\n",
       "      <td>20.9</td>\n",
       "      <td>26.0</td>\n",
       "      <td>0.001741</td>\n",
       "      <td>91.6</td>\n",
       "      <td>0.2</td>\n",
       "      <td>4.42</td>\n",
       "      <td>14.312</td>\n",
       "      <td>9.842</td>\n",
       "      <td>4.510</td>\n",
       "      <td>NaN</td>\n",
       "      <td>82.25</td>\n",
       "      <td>94277.965</td>\n",
       "      <td>23.45</td>\n",
       "    </tr>\n",
       "    <tr>\n",
       "      <th>23</th>\n",
       "      <td>Malta</td>\n",
       "      <td>20.9</td>\n",
       "      <td>30.2</td>\n",
       "      <td>0.001509</td>\n",
       "      <td>89.5</td>\n",
       "      <td>0.2</td>\n",
       "      <td>8.83</td>\n",
       "      <td>19.426</td>\n",
       "      <td>11.324</td>\n",
       "      <td>4.485</td>\n",
       "      <td>NaN</td>\n",
       "      <td>82.53</td>\n",
       "      <td>36513.323</td>\n",
       "      <td>25.55</td>\n",
       "    </tr>\n",
       "    <tr>\n",
       "      <th>24</th>\n",
       "      <td>Moldova</td>\n",
       "      <td>5.9</td>\n",
       "      <td>44.6</td>\n",
       "      <td>0.003799</td>\n",
       "      <td>75.0</td>\n",
       "      <td>0.2</td>\n",
       "      <td>5.72</td>\n",
       "      <td>10.864</td>\n",
       "      <td>6.955</td>\n",
       "      <td>5.800</td>\n",
       "      <td>86.979</td>\n",
       "      <td>71.90</td>\n",
       "      <td>5189.972</td>\n",
       "      <td>25.25</td>\n",
       "    </tr>\n",
       "    <tr>\n",
       "      <th>25</th>\n",
       "      <td>Montenegro</td>\n",
       "      <td>44.0</td>\n",
       "      <td>47.9</td>\n",
       "      <td>0.004382</td>\n",
       "      <td>82.9</td>\n",
       "      <td>1.0</td>\n",
       "      <td>10.08</td>\n",
       "      <td>14.762</td>\n",
       "      <td>9.395</td>\n",
       "      <td>3.861</td>\n",
       "      <td>NaN</td>\n",
       "      <td>76.88</td>\n",
       "      <td>16409.288</td>\n",
       "      <td>45.95</td>\n",
       "    </tr>\n",
       "    <tr>\n",
       "      <th>27</th>\n",
       "      <td>Norway</td>\n",
       "      <td>19.6</td>\n",
       "      <td>20.7</td>\n",
       "      <td>0.000671</td>\n",
       "      <td>95.7</td>\n",
       "      <td>0.2</td>\n",
       "      <td>5.31</td>\n",
       "      <td>16.821</td>\n",
       "      <td>10.813</td>\n",
       "      <td>3.600</td>\n",
       "      <td>NaN</td>\n",
       "      <td>82.40</td>\n",
       "      <td>64800.057</td>\n",
       "      <td>20.15</td>\n",
       "    </tr>\n",
       "    <tr>\n",
       "      <th>29</th>\n",
       "      <td>Portugal</td>\n",
       "      <td>16.3</td>\n",
       "      <td>30.0</td>\n",
       "      <td>0.002395</td>\n",
       "      <td>86.4</td>\n",
       "      <td>0.5</td>\n",
       "      <td>9.85</td>\n",
       "      <td>21.502</td>\n",
       "      <td>14.924</td>\n",
       "      <td>3.390</td>\n",
       "      <td>NaN</td>\n",
       "      <td>82.05</td>\n",
       "      <td>27936.896</td>\n",
       "      <td>23.15</td>\n",
       "    </tr>\n",
       "    <tr>\n",
       "      <th>30</th>\n",
       "      <td>Romania</td>\n",
       "      <td>22.9</td>\n",
       "      <td>37.1</td>\n",
       "      <td>0.003419</td>\n",
       "      <td>82.8</td>\n",
       "      <td>5.7</td>\n",
       "      <td>9.74</td>\n",
       "      <td>17.850</td>\n",
       "      <td>11.690</td>\n",
       "      <td>6.892</td>\n",
       "      <td>NaN</td>\n",
       "      <td>76.05</td>\n",
       "      <td>23313.199</td>\n",
       "      <td>30.00</td>\n",
       "    </tr>\n",
       "    <tr>\n",
       "      <th>31</th>\n",
       "      <td>Russia</td>\n",
       "      <td>23.4</td>\n",
       "      <td>58.3</td>\n",
       "      <td>0.002583</td>\n",
       "      <td>82.4</td>\n",
       "      <td>0.1</td>\n",
       "      <td>6.18</td>\n",
       "      <td>14.178</td>\n",
       "      <td>9.393</td>\n",
       "      <td>8.050</td>\n",
       "      <td>NaN</td>\n",
       "      <td>72.58</td>\n",
       "      <td>24765.954</td>\n",
       "      <td>40.85</td>\n",
       "    </tr>\n",
       "    <tr>\n",
       "      <th>33</th>\n",
       "      <td>Slovakia</td>\n",
       "      <td>23.1</td>\n",
       "      <td>37.7</td>\n",
       "      <td>0.003715</td>\n",
       "      <td>86.0</td>\n",
       "      <td>0.7</td>\n",
       "      <td>7.29</td>\n",
       "      <td>15.070</td>\n",
       "      <td>9.167</td>\n",
       "      <td>5.820</td>\n",
       "      <td>NaN</td>\n",
       "      <td>77.54</td>\n",
       "      <td>30155.152</td>\n",
       "      <td>30.40</td>\n",
       "    </tr>\n",
       "    <tr>\n",
       "      <th>35</th>\n",
       "      <td>Spain</td>\n",
       "      <td>27.4</td>\n",
       "      <td>31.4</td>\n",
       "      <td>0.002332</td>\n",
       "      <td>90.4</td>\n",
       "      <td>1.0</td>\n",
       "      <td>7.17</td>\n",
       "      <td>19.436</td>\n",
       "      <td>13.799</td>\n",
       "      <td>2.970</td>\n",
       "      <td>NaN</td>\n",
       "      <td>83.56</td>\n",
       "      <td>34272.360</td>\n",
       "      <td>29.40</td>\n",
       "    </tr>\n",
       "    <tr>\n",
       "      <th>36</th>\n",
       "      <td>Sweden</td>\n",
       "      <td>18.8</td>\n",
       "      <td>18.9</td>\n",
       "      <td>0.001849</td>\n",
       "      <td>94.5</td>\n",
       "      <td>0.5</td>\n",
       "      <td>4.79</td>\n",
       "      <td>19.985</td>\n",
       "      <td>13.433</td>\n",
       "      <td>2.220</td>\n",
       "      <td>NaN</td>\n",
       "      <td>82.80</td>\n",
       "      <td>46949.283</td>\n",
       "      <td>18.85</td>\n",
       "    </tr>\n",
       "    <tr>\n",
       "      <th>38</th>\n",
       "      <td>Ukraine</td>\n",
       "      <td>13.5</td>\n",
       "      <td>47.4</td>\n",
       "      <td>0.002675</td>\n",
       "      <td>77.9</td>\n",
       "      <td>0.1</td>\n",
       "      <td>7.11</td>\n",
       "      <td>16.462</td>\n",
       "      <td>11.133</td>\n",
       "      <td>8.800</td>\n",
       "      <td>NaN</td>\n",
       "      <td>72.06</td>\n",
       "      <td>7894.393</td>\n",
       "      <td>30.45</td>\n",
       "    </tr>\n",
       "    <tr>\n",
       "      <th>39</th>\n",
       "      <td>United Kingdom</td>\n",
       "      <td>20.0</td>\n",
       "      <td>24.7</td>\n",
       "      <td>0.002753</td>\n",
       "      <td>93.2</td>\n",
       "      <td>0.2</td>\n",
       "      <td>4.28</td>\n",
       "      <td>18.517</td>\n",
       "      <td>12.527</td>\n",
       "      <td>2.540</td>\n",
       "      <td>NaN</td>\n",
       "      <td>81.32</td>\n",
       "      <td>39753.244</td>\n",
       "      <td>22.35</td>\n",
       "    </tr>\n",
       "  </tbody>\n",
       "</table>\n",
       "</div>"
      ],
      "text/plain": [
       "                  location  female_smokers  male_smokers  total_deaths  \\\n",
       "0                  Albania             7.1          51.2      0.001244   \n",
       "2                  Austria            28.4          30.9      0.002285   \n",
       "4                  Belgium            25.1          31.4      0.002779   \n",
       "5   Bosnia and Herzegovina            30.2          47.7      0.004856   \n",
       "6                 Bulgaria            30.1          44.4      0.005434   \n",
       "7                  Croatia            34.3          39.9      0.004027   \n",
       "10                 Denmark            19.3          18.8      0.001142   \n",
       "11                 Estonia            24.5          39.3      0.001978   \n",
       "15                  Greece            35.3          52.0      0.003004   \n",
       "16                 Hungary            26.8          34.8      0.004829   \n",
       "17                 Iceland            14.3          15.2      0.000483   \n",
       "18                 Ireland            23.0          25.7      0.001544   \n",
       "19                   Italy            19.8          27.8      0.002913   \n",
       "20                  Latvia            25.6          51.0      0.003148   \n",
       "21               Lithuania            21.3          38.0      0.003305   \n",
       "22              Luxembourg            20.9          26.0      0.001741   \n",
       "23                   Malta            20.9          30.2      0.001509   \n",
       "24                 Moldova             5.9          44.6      0.003799   \n",
       "25              Montenegro            44.0          47.9      0.004382   \n",
       "27                  Norway            19.6          20.7      0.000671   \n",
       "29                Portugal            16.3          30.0      0.002395   \n",
       "30                 Romania            22.9          37.1      0.003419   \n",
       "31                  Russia            23.4          58.3      0.002583   \n",
       "33                Slovakia            23.1          37.7      0.003715   \n",
       "35                   Spain            27.4          31.4      0.002332   \n",
       "36                  Sweden            18.8          18.9      0.001849   \n",
       "38                 Ukraine            13.5          47.4      0.002675   \n",
       "39          United Kingdom            20.0          24.7      0.002753   \n",
       "\n",
       "    human_development_index  extreme_poverty  diabetes_prevalence  \\\n",
       "0                      79.5              1.1                10.08   \n",
       "2                      92.2              0.7                 6.35   \n",
       "4                      93.1              0.2                 4.29   \n",
       "5                      78.0              0.2                10.08   \n",
       "6                      81.6              1.5                 5.81   \n",
       "7                      85.1              0.7                 5.59   \n",
       "10                     94.0              0.2                 6.41   \n",
       "11                     89.2              0.5                 4.02   \n",
       "15                     88.8              1.5                 4.55   \n",
       "16                     85.4              0.5                 7.55   \n",
       "17                     94.9              0.2                 5.31   \n",
       "18                     95.5              0.2                 3.28   \n",
       "19                     89.2              2.0                 4.78   \n",
       "20                     86.6              0.7                 4.91   \n",
       "21                     88.2              0.7                 3.67   \n",
       "22                     91.6              0.2                 4.42   \n",
       "23                     89.5              0.2                 8.83   \n",
       "24                     75.0              0.2                 5.72   \n",
       "25                     82.9              1.0                10.08   \n",
       "27                     95.7              0.2                 5.31   \n",
       "29                     86.4              0.5                 9.85   \n",
       "30                     82.8              5.7                 9.74   \n",
       "31                     82.4              0.1                 6.18   \n",
       "33                     86.0              0.7                 7.29   \n",
       "35                     90.4              1.0                 7.17   \n",
       "36                     94.5              0.5                 4.79   \n",
       "38                     77.9              0.1                 7.11   \n",
       "39                     93.2              0.2                 4.28   \n",
       "\n",
       "    aged_65_older  aged_70_older  hospital_beds_per_thousand  \\\n",
       "0          13.188          8.643                       2.890   \n",
       "2          19.202         13.748                       7.370   \n",
       "4          18.571         12.849                       5.640   \n",
       "5          16.569         10.711                       3.500   \n",
       "6          20.801         13.272                       7.454   \n",
       "7          19.724         13.053                       5.540   \n",
       "10         19.677         12.325                       2.500   \n",
       "11         19.452         13.491                       4.690   \n",
       "15         20.396         14.524                       4.210   \n",
       "16         18.577         11.976                       7.020   \n",
       "17         14.431          9.207                       2.910   \n",
       "18         13.928          8.678                       2.960   \n",
       "19         23.021         16.240                       3.180   \n",
       "20         19.754         14.136                       5.570   \n",
       "21         19.002         13.778                       6.560   \n",
       "22         14.312          9.842                       4.510   \n",
       "23         19.426         11.324                       4.485   \n",
       "24         10.864          6.955                       5.800   \n",
       "25         14.762          9.395                       3.861   \n",
       "27         16.821         10.813                       3.600   \n",
       "29         21.502         14.924                       3.390   \n",
       "30         17.850         11.690                       6.892   \n",
       "31         14.178          9.393                       8.050   \n",
       "33         15.070          9.167                       5.820   \n",
       "35         19.436         13.799                       2.970   \n",
       "36         19.985         13.433                       2.220   \n",
       "38         16.462         11.133                       8.800   \n",
       "39         18.517         12.527                       2.540   \n",
       "\n",
       "    handwashing_facilities  life_expectancy  gdp_per_capita  smokers  \n",
       "0                      NaN            78.57       11803.431    29.15  \n",
       "2                      NaN            81.54       45436.686    29.65  \n",
       "4                      NaN            81.63       42658.576    28.25  \n",
       "5                   97.164            77.40       11713.895    38.95  \n",
       "6                      NaN            75.05       18563.307    37.25  \n",
       "7                      NaN            78.49       22669.797    37.10  \n",
       "10                     NaN            80.90       46682.515    19.05  \n",
       "11                     NaN            78.74       29481.252    31.90  \n",
       "15                     NaN            82.24       24574.382    43.65  \n",
       "16                     NaN            76.88       26777.561    30.80  \n",
       "17                     NaN            82.99       46482.958    14.75  \n",
       "18                     NaN            82.30       67335.293    24.35  \n",
       "19                     NaN            83.51       35220.084    23.80  \n",
       "20                     NaN            75.29       25063.846    38.30  \n",
       "21                     NaN            75.93       29524.265    29.65  \n",
       "22                     NaN            82.25       94277.965    23.45  \n",
       "23                     NaN            82.53       36513.323    25.55  \n",
       "24                  86.979            71.90        5189.972    25.25  \n",
       "25                     NaN            76.88       16409.288    45.95  \n",
       "27                     NaN            82.40       64800.057    20.15  \n",
       "29                     NaN            82.05       27936.896    23.15  \n",
       "30                     NaN            76.05       23313.199    30.00  \n",
       "31                     NaN            72.58       24765.954    40.85  \n",
       "33                     NaN            77.54       30155.152    30.40  \n",
       "35                     NaN            83.56       34272.360    29.40  \n",
       "36                     NaN            82.80       46949.283    18.85  \n",
       "38                     NaN            72.06        7894.393    30.45  \n",
       "39                     NaN            81.32       39753.244    22.35  "
      ]
     },
     "execution_count": 22,
     "metadata": {},
     "output_type": "execute_result"
    }
   ],
   "source": [
    "data['human_development_index'] = data['human_development_index']*100\n",
    "x4 = data[[ 'aged_70_older', 'human_development_index','extreme_poverty','diabetes_prevalence','male_smokers', 'female_smokers',\n",
    "           'hospital_beds_per_thousand', 'life_expectancy', 'gdp_per_capita']]\n",
    "y4 = data['total_deaths']*10000\n",
    "data"
   ]
  },
  {
   "cell_type": "code",
   "execution_count": 23,
   "id": "6a800a77-9aba-44e2-b766-b11757c58d00",
   "metadata": {},
   "outputs": [
    {
     "data": {
      "text/html": [
       "<div>\n",
       "<style scoped>\n",
       "    .dataframe tbody tr th:only-of-type {\n",
       "        vertical-align: middle;\n",
       "    }\n",
       "\n",
       "    .dataframe tbody tr th {\n",
       "        vertical-align: top;\n",
       "    }\n",
       "\n",
       "    .dataframe thead th {\n",
       "        text-align: right;\n",
       "    }\n",
       "</style>\n",
       "<table border=\"1\" class=\"dataframe\">\n",
       "  <thead>\n",
       "    <tr style=\"text-align: right;\">\n",
       "      <th></th>\n",
       "      <th>Coefficient</th>\n",
       "    </tr>\n",
       "  </thead>\n",
       "  <tbody>\n",
       "    <tr>\n",
       "      <th>aged_70_older</th>\n",
       "      <td>0.951497</td>\n",
       "    </tr>\n",
       "    <tr>\n",
       "      <th>human_development_index</th>\n",
       "      <td>-2.966266</td>\n",
       "    </tr>\n",
       "    <tr>\n",
       "      <th>extreme_poverty</th>\n",
       "      <td>0.034306</td>\n",
       "    </tr>\n",
       "    <tr>\n",
       "      <th>diabetes_prevalence</th>\n",
       "      <td>-1.896530</td>\n",
       "    </tr>\n",
       "    <tr>\n",
       "      <th>male_smokers</th>\n",
       "      <td>-0.807705</td>\n",
       "    </tr>\n",
       "    <tr>\n",
       "      <th>female_smokers</th>\n",
       "      <td>1.229210</td>\n",
       "    </tr>\n",
       "    <tr>\n",
       "      <th>hospital_beds_per_thousand</th>\n",
       "      <td>-0.015963</td>\n",
       "    </tr>\n",
       "    <tr>\n",
       "      <th>life_expectancy</th>\n",
       "      <td>-0.460566</td>\n",
       "    </tr>\n",
       "    <tr>\n",
       "      <th>gdp_per_capita</th>\n",
       "      <td>-0.000046</td>\n",
       "    </tr>\n",
       "  </tbody>\n",
       "</table>\n",
       "</div>"
      ],
      "text/plain": [
       "                            Coefficient\n",
       "aged_70_older                  0.951497\n",
       "human_development_index       -2.966266\n",
       "extreme_poverty                0.034306\n",
       "diabetes_prevalence           -1.896530\n",
       "male_smokers                  -0.807705\n",
       "female_smokers                 1.229210\n",
       "hospital_beds_per_thousand    -0.015963\n",
       "life_expectancy               -0.460566\n",
       "gdp_per_capita                -0.000046"
      ]
     },
     "execution_count": 23,
     "metadata": {},
     "output_type": "execute_result"
    }
   ],
   "source": [
    "from sklearn.model_selection import train_test_split\n",
    "x4_train, x4_test, y4_train, y4_test = train_test_split(x4, y4, test_size=0.2, random_state=0)\n",
    "regressor = LinearRegression()\n",
    "regressor.fit(x4_train, y4_train)\n",
    "coeff_df = pd.DataFrame(regressor.coef_, x4.columns, columns=['Coefficient'])\n",
    "coeff_df"
   ]
  },
  {
   "cell_type": "code",
   "execution_count": 24,
   "id": "fb83e692-9a97-435d-9849-59c777bcfb9f",
   "metadata": {},
   "outputs": [
    {
     "data": {
      "text/html": [
       "<div>\n",
       "<style scoped>\n",
       "    .dataframe tbody tr th:only-of-type {\n",
       "        vertical-align: middle;\n",
       "    }\n",
       "\n",
       "    .dataframe tbody tr th {\n",
       "        vertical-align: top;\n",
       "    }\n",
       "\n",
       "    .dataframe thead th {\n",
       "        text-align: right;\n",
       "    }\n",
       "</style>\n",
       "<table border=\"1\" class=\"dataframe\">\n",
       "  <thead>\n",
       "    <tr style=\"text-align: right;\">\n",
       "      <th></th>\n",
       "      <th>Actual</th>\n",
       "      <th>Predicted</th>\n",
       "    </tr>\n",
       "  </thead>\n",
       "  <tbody>\n",
       "    <tr>\n",
       "      <th>4</th>\n",
       "      <td>27.785577</td>\n",
       "      <td>20.005775</td>\n",
       "    </tr>\n",
       "    <tr>\n",
       "      <th>31</th>\n",
       "      <td>25.830454</td>\n",
       "      <td>25.997814</td>\n",
       "    </tr>\n",
       "    <tr>\n",
       "      <th>21</th>\n",
       "      <td>33.054014</td>\n",
       "      <td>29.825477</td>\n",
       "    </tr>\n",
       "    <tr>\n",
       "      <th>24</th>\n",
       "      <td>37.987840</td>\n",
       "      <td>37.301078</td>\n",
       "    </tr>\n",
       "    <tr>\n",
       "      <th>7</th>\n",
       "      <td>40.269597</td>\n",
       "      <td>48.284843</td>\n",
       "    </tr>\n",
       "    <tr>\n",
       "      <th>18</th>\n",
       "      <td>15.441612</td>\n",
       "      <td>11.464230</td>\n",
       "    </tr>\n",
       "  </tbody>\n",
       "</table>\n",
       "</div>"
      ],
      "text/plain": [
       "       Actual  Predicted\n",
       "4   27.785577  20.005775\n",
       "31  25.830454  25.997814\n",
       "21  33.054014  29.825477\n",
       "24  37.987840  37.301078\n",
       "7   40.269597  48.284843\n",
       "18  15.441612  11.464230"
      ]
     },
     "execution_count": 24,
     "metadata": {},
     "output_type": "execute_result"
    }
   ],
   "source": [
    "y_pred = regressor.predict(x4_test)\n",
    "end = pd.DataFrame({'Actual': y4_test, 'Predicted': y_pred})\n",
    "end"
   ]
  },
  {
   "cell_type": "code",
   "execution_count": 25,
   "id": "31800469-0e83-4527-a019-ffaf6b4e3b93",
   "metadata": {},
   "outputs": [
    {
     "data": {
      "text/plain": [
       "0.6329735906173819"
      ]
     },
     "execution_count": 25,
     "metadata": {},
     "output_type": "execute_result"
    }
   ],
   "source": [
    "from sklearn.metrics import r2_score\n",
    "r2_score(y4_test,y_pred)"
   ]
  },
  {
   "cell_type": "code",
   "execution_count": 26,
   "id": "d75ddd63-446d-4a79-983f-f33db7e5ba1f",
   "metadata": {},
   "outputs": [
    {
     "name": "stderr",
     "output_type": "stream",
     "text": [
      "/home/olya/.local/lib/python3.8/site-packages/seaborn/distributions.py:2619: FutureWarning: `distplot` is a deprecated function and will be removed in a future version. Please adapt your code to use either `displot` (a figure-level function with similar flexibility) or `kdeplot` (an axes-level function for kernel density plots).\n",
      "  warnings.warn(msg, FutureWarning)\n",
      "/home/olya/.local/lib/python3.8/site-packages/seaborn/distributions.py:2619: FutureWarning: `distplot` is a deprecated function and will be removed in a future version. Please adapt your code to use either `displot` (a figure-level function with similar flexibility) or `kdeplot` (an axes-level function for kernel density plots).\n",
      "  warnings.warn(msg, FutureWarning)\n"
     ]
    },
    {
     "data": {
      "image/png": "[encoded data removed]",
      "text/plain": [
       "<Figure size 432x288 with 1 Axes>"
      ]
     },
     "metadata": {
      "needs_background": "light"
     },
     "output_type": "display_data"
    }
   ],
   "source": [
    "import seaborn as sns\n",
    "g = sns.distplot(y4_test,hist = False)\n",
    "g = sns.distplot(y_pred, hist = False)"
   ]
  },
  {
   "cell_type": "code",
   "execution_count": 27,
   "id": "225814ef-88b3-4ba8-a996-9bbb55f62fb4",
   "metadata": {},
   "outputs": [
    {
     "data": {
      "text/plain": [
       "iso_code         0\n",
       "continent        0\n",
       "location         0\n",
       "date             0\n",
       "total_cases    123\n",
       "new_cases        0\n",
       "dtype: int64"
      ]
     },
     "execution_count": 27,
     "metadata": {},
     "output_type": "execute_result"
    }
   ],
   "source": [
    "df.isnull().sum().head(6)"
   ]
  },
  {
   "cell_type": "code",
   "execution_count": 28,
   "id": "459b5736-2355-4487-a97d-a5e514f29e87",
   "metadata": {},
   "outputs": [
    {
     "data": {
      "image/png": "[encoded data removed]",
      "text/plain": [
       "<Figure size 432x288 with 1 Axes>"
      ]
     },
     "metadata": {
      "needs_background": "light"
     },
     "output_type": "display_data"
    }
   ],
   "source": [
    "cases = df.groupby(['date']).sum()['new_cases'].reset_index()\n",
    "cases.columns =['date', 'new_cases']\n",
    "cases.plot(x = 'date', y = 'new_cases')\n",
    "plt.show()"
   ]
  },
  {
   "cell_type": "code",
   "execution_count": 29,
   "id": "a26ce123-a491-4cce-9bb4-b5c78a206724",
   "metadata": {},
   "outputs": [
    {
     "data": {
      "image/png": "[encoded data removed]",
      "text/plain": [
       "<Figure size 432x288 with 1 Axes>"
      ]
     },
     "metadata": {
      "needs_background": "light"
     },
     "output_type": "display_data"
    }
   ],
   "source": [
    "import matplotlib.ticker as ticker\n",
    "new_death = df.groupby(['date']).sum()['new_deaths'].reset_index()\n",
    "new_death.columns =['date', 'new_deaths']\n",
    "x = cases['date']\n",
    "y1 = cases['new_cases']/100\n",
    "y2 = new_death['new_deaths']\n",
    "fig, ax = plt.subplots()\n",
    "\n",
    "\n",
    "ax.plot(x, y2, color = 'black', linewidth = 1)\n",
    "ax.plot(x, y1,  linewidth = 1)\n",
    "#  Устанавливаем интервал основных делений:\n",
    "ax.xaxis.set_major_locator(ticker.MultipleLocator(200))\n",
    "\n",
    "\n",
    "fig.set_figwidth(6)\n",
    "fig.set_figheight(4)\n",
    "\n",
    "plt.savefig('eurr.png')"
   ]
  },
  {
   "cell_type": "code",
   "execution_count": null,
   "id": "dc42a38e-571f-4d92-af55-e49d1dfcc562",
   "metadata": {},
   "outputs": [],
   "source": []
  }
 ],
 "metadata": {
  "kernelspec": {
   "display_name": "Python 3 (ipykernel)",
   "language": "python",
   "name": "python3"
  },
  "language_info": {
   "codemirror_mode": {
    "name": "ipython",
    "version": 3
   },
   "file_extension": ".py",
   "mimetype": "text/x-python",
   "name": "python",
   "nbconvert_exporter": "python",
   "pygments_lexer": "ipython3",
   "version": "3.8.10"
  }
 },
 "nbformat": 4,
 "nbformat_minor": 5
}
